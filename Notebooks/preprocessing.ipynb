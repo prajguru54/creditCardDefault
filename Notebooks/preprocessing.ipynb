{
 "cells": [
  {
   "cell_type": "code",
   "execution_count": 360,
   "metadata": {},
   "outputs": [],
   "source": [
    "import os\n",
    "import pandas as pd\n",
    "from data_preprocessing import Preprocessor\n",
    "from logger import App_Logger\n",
    "\n"
   ]
  },
  {
   "cell_type": "code",
   "execution_count": 367,
   "metadata": {},
   "outputs": [
    {
     "data": {
      "text/html": [
       "<div>\n",
       "<style scoped>\n",
       "    .dataframe tbody tr th:only-of-type {\n",
       "        vertical-align: middle;\n",
       "    }\n",
       "\n",
       "    .dataframe tbody tr th {\n",
       "        vertical-align: top;\n",
       "    }\n",
       "\n",
       "    .dataframe thead th {\n",
       "        text-align: right;\n",
       "    }\n",
       "</style>\n",
       "<table border=\"1\" class=\"dataframe\">\n",
       "  <thead>\n",
       "    <tr style=\"text-align: right;\">\n",
       "      <th></th>\n",
       "      <th>LIMIT_BAL</th>\n",
       "      <th>SEX</th>\n",
       "      <th>EDUCATION</th>\n",
       "      <th>MARRIAGE</th>\n",
       "      <th>AGE</th>\n",
       "      <th>PAY_0</th>\n",
       "      <th>PAY_2</th>\n",
       "      <th>PAY_3</th>\n",
       "      <th>PAY_4</th>\n",
       "      <th>PAY_5</th>\n",
       "      <th>...</th>\n",
       "      <th>BILL_AMT4</th>\n",
       "      <th>BILL_AMT5</th>\n",
       "      <th>BILL_AMT6</th>\n",
       "      <th>PAY_AMT1</th>\n",
       "      <th>PAY_AMT2</th>\n",
       "      <th>PAY_AMT3</th>\n",
       "      <th>PAY_AMT4</th>\n",
       "      <th>PAY_AMT5</th>\n",
       "      <th>PAY_AMT6</th>\n",
       "      <th>default payment next month</th>\n",
       "    </tr>\n",
       "  </thead>\n",
       "  <tbody>\n",
       "    <tr>\n",
       "      <th>0</th>\n",
       "      <td>20000</td>\n",
       "      <td>2</td>\n",
       "      <td>2</td>\n",
       "      <td>1</td>\n",
       "      <td>24</td>\n",
       "      <td>2</td>\n",
       "      <td>2</td>\n",
       "      <td>-1</td>\n",
       "      <td>-1</td>\n",
       "      <td>-2</td>\n",
       "      <td>...</td>\n",
       "      <td>0</td>\n",
       "      <td>0</td>\n",
       "      <td>0</td>\n",
       "      <td>0</td>\n",
       "      <td>689</td>\n",
       "      <td>0</td>\n",
       "      <td>0</td>\n",
       "      <td>0</td>\n",
       "      <td>0</td>\n",
       "      <td>1</td>\n",
       "    </tr>\n",
       "    <tr>\n",
       "      <th>1</th>\n",
       "      <td>120000</td>\n",
       "      <td>2</td>\n",
       "      <td>2</td>\n",
       "      <td>2</td>\n",
       "      <td>26</td>\n",
       "      <td>-1</td>\n",
       "      <td>2</td>\n",
       "      <td>0</td>\n",
       "      <td>0</td>\n",
       "      <td>0</td>\n",
       "      <td>...</td>\n",
       "      <td>3272</td>\n",
       "      <td>3455</td>\n",
       "      <td>3261</td>\n",
       "      <td>0</td>\n",
       "      <td>1000</td>\n",
       "      <td>1000</td>\n",
       "      <td>1000</td>\n",
       "      <td>0</td>\n",
       "      <td>2000</td>\n",
       "      <td>1</td>\n",
       "    </tr>\n",
       "    <tr>\n",
       "      <th>2</th>\n",
       "      <td>90000</td>\n",
       "      <td>2</td>\n",
       "      <td>2</td>\n",
       "      <td>2</td>\n",
       "      <td>34</td>\n",
       "      <td>0</td>\n",
       "      <td>0</td>\n",
       "      <td>0</td>\n",
       "      <td>0</td>\n",
       "      <td>0</td>\n",
       "      <td>...</td>\n",
       "      <td>14331</td>\n",
       "      <td>14948</td>\n",
       "      <td>15549</td>\n",
       "      <td>1518</td>\n",
       "      <td>1500</td>\n",
       "      <td>1000</td>\n",
       "      <td>1000</td>\n",
       "      <td>1000</td>\n",
       "      <td>5000</td>\n",
       "      <td>0</td>\n",
       "    </tr>\n",
       "    <tr>\n",
       "      <th>3</th>\n",
       "      <td>50000</td>\n",
       "      <td>2</td>\n",
       "      <td>2</td>\n",
       "      <td>1</td>\n",
       "      <td>37</td>\n",
       "      <td>0</td>\n",
       "      <td>0</td>\n",
       "      <td>0</td>\n",
       "      <td>0</td>\n",
       "      <td>0</td>\n",
       "      <td>...</td>\n",
       "      <td>28314</td>\n",
       "      <td>28959</td>\n",
       "      <td>29547</td>\n",
       "      <td>2000</td>\n",
       "      <td>2019</td>\n",
       "      <td>1200</td>\n",
       "      <td>1100</td>\n",
       "      <td>1069</td>\n",
       "      <td>1000</td>\n",
       "      <td>0</td>\n",
       "    </tr>\n",
       "    <tr>\n",
       "      <th>4</th>\n",
       "      <td>50000</td>\n",
       "      <td>1</td>\n",
       "      <td>2</td>\n",
       "      <td>1</td>\n",
       "      <td>57</td>\n",
       "      <td>-1</td>\n",
       "      <td>0</td>\n",
       "      <td>-1</td>\n",
       "      <td>0</td>\n",
       "      <td>0</td>\n",
       "      <td>...</td>\n",
       "      <td>20940</td>\n",
       "      <td>19146</td>\n",
       "      <td>19131</td>\n",
       "      <td>2000</td>\n",
       "      <td>36681</td>\n",
       "      <td>10000</td>\n",
       "      <td>9000</td>\n",
       "      <td>689</td>\n",
       "      <td>679</td>\n",
       "      <td>0</td>\n",
       "    </tr>\n",
       "  </tbody>\n",
       "</table>\n",
       "<p>5 rows × 24 columns</p>\n",
       "</div>"
      ],
      "text/plain": [
       "   LIMIT_BAL  SEX  EDUCATION  MARRIAGE  AGE  PAY_0  PAY_2  PAY_3  PAY_4  \\\n",
       "0      20000    2          2         1   24      2      2     -1     -1   \n",
       "1     120000    2          2         2   26     -1      2      0      0   \n",
       "2      90000    2          2         2   34      0      0      0      0   \n",
       "3      50000    2          2         1   37      0      0      0      0   \n",
       "4      50000    1          2         1   57     -1      0     -1      0   \n",
       "\n",
       "   PAY_5  ...  BILL_AMT4  BILL_AMT5  BILL_AMT6  PAY_AMT1  PAY_AMT2  PAY_AMT3  \\\n",
       "0     -2  ...          0          0          0         0       689         0   \n",
       "1      0  ...       3272       3455       3261         0      1000      1000   \n",
       "2      0  ...      14331      14948      15549      1518      1500      1000   \n",
       "3      0  ...      28314      28959      29547      2000      2019      1200   \n",
       "4      0  ...      20940      19146      19131      2000     36681     10000   \n",
       "\n",
       "   PAY_AMT4  PAY_AMT5  PAY_AMT6  default payment next month  \n",
       "0         0         0         0                           1  \n",
       "1      1000         0      2000                           1  \n",
       "2      1000      1000      5000                           0  \n",
       "3      1100      1069      1000                           0  \n",
       "4      9000       689       679                           0  \n",
       "\n",
       "[5 rows x 24 columns]"
      ]
     },
     "execution_count": 367,
     "metadata": {},
     "output_type": "execute_result"
    }
   ],
   "source": [
    "filepath = r'E:\\Me\\Project\\INeuron\\creditCardDefaulters\\creditCardDefaulters\\code\\creditCardDefaulters\\Training_Batch_Files'\n",
    "\n",
    "first_file_found = 0\n",
    "for input_file in os.listdir(filepath):\n",
    "    if input_file.endswith('csv'):       \n",
    "        if first_file_found == 0:  # For the first file load it as it is, so that we get the column names as well \n",
    "            first_file_found += 1  # from the next file we do, just have to append them one by one\n",
    "            df = pd.read_csv(os.path.join(filepath,  input_file))\n",
    "        else:\n",
    "            temp_df = pd.read_csv(os.path.join(filepath,  input_file))\n",
    "            df = pd.concat([df, temp_df])\n",
    "\n",
    "df.head()"
   ]
  },
  {
   "cell_type": "code",
   "execution_count": 368,
   "metadata": {},
   "outputs": [
    {
     "data": {
      "text/plain": [
       "(31031, 24)"
      ]
     },
     "execution_count": 368,
     "metadata": {},
     "output_type": "execute_result"
    }
   ],
   "source": [
    "df.shape"
   ]
  },
  {
   "cell_type": "code",
   "execution_count": 330,
   "metadata": {},
   "outputs": [
    {
     "data": {
      "text/plain": [
       "array([2, 1], dtype=int64)"
      ]
     },
     "execution_count": 330,
     "metadata": {},
     "output_type": "execute_result"
    }
   ],
   "source": [
    "df.SEX.unique()"
   ]
  },
  {
   "cell_type": "code",
   "execution_count": 331,
   "metadata": {},
   "outputs": [],
   "source": [
    "df['SEX_MALE'] = df['SEX'].map(lambda x: 1 if x== 1 else 0)\n",
    "df.drop('SEX', inplace=True, axis = 1)"
   ]
  },
  {
   "cell_type": "code",
   "execution_count": 332,
   "metadata": {},
   "outputs": [
    {
     "data": {
      "text/plain": [
       "2    13877\n",
       "1    12310\n",
       "3     4627\n",
       "5       93\n",
       "6       62\n",
       "4       62\n",
       "Name: EDUCATION, dtype: int64"
      ]
     },
     "execution_count": 332,
     "metadata": {},
     "output_type": "execute_result"
    }
   ],
   "source": [
    "df.EDUCATION.value_counts()"
   ]
  },
  {
   "cell_type": "code",
   "execution_count": 333,
   "metadata": {},
   "outputs": [
    {
     "data": {
      "text/plain": [
       "0    24429\n",
       "1     6602\n",
       "Name: default payment next month, dtype: int64"
      ]
     },
     "execution_count": 333,
     "metadata": {},
     "output_type": "execute_result"
    }
   ],
   "source": [
    "df['default payment next month'].value_counts()"
   ]
  },
  {
   "cell_type": "code",
   "execution_count": 334,
   "metadata": {},
   "outputs": [],
   "source": [
    "cat_columns_to_encode = ['EDUCATION', 'MARRIAGE']\n",
    "logfile =  open('preprocessing_log.log', 'a+')\n",
    "pre_obj = Preprocessor(logfile, App_Logger())"
   ]
  },
  {
   "cell_type": "code",
   "execution_count": 335,
   "metadata": {},
   "outputs": [],
   "source": [
    "numerical_columns_to_scale = ['LIMIT_BAL', 'AGE', 'PAY_0', 'PAY_2',\n",
    "       'PAY_3', 'PAY_4', 'PAY_5', 'PAY_6', 'BILL_AMT1', 'BILL_AMT2',\n",
    "       'BILL_AMT3', 'BILL_AMT4', 'BILL_AMT5', 'BILL_AMT6', 'PAY_AMT1',\n",
    "       'PAY_AMT2', 'PAY_AMT3', 'PAY_AMT4', 'PAY_AMT5', 'PAY_AMT6']"
   ]
  },
  {
   "cell_type": "code",
   "execution_count": 336,
   "metadata": {},
   "outputs": [
    {
     "data": {
      "text/plain": [
       "(31031, 20)"
      ]
     },
     "execution_count": 336,
     "metadata": {},
     "output_type": "execute_result"
    }
   ],
   "source": [
    "scaled_numeric_df = pre_obj.scale_numerical_columns(df, numerical_columns_to_scale)\n",
    "scaled_numeric_df.shape"
   ]
  },
  {
   "cell_type": "code",
   "execution_count": 337,
   "metadata": {},
   "outputs": [
    {
     "data": {
      "text/plain": [
       "(31031, 8)"
      ]
     },
     "execution_count": 337,
     "metadata": {},
     "output_type": "execute_result"
    }
   ],
   "source": [
    "df_dummies = pre_obj.encode_categorical_columns(df, cat_columns_to_encode)\n",
    "df_dummies.shape"
   ]
  },
  {
   "cell_type": "code",
   "execution_count": 338,
   "metadata": {},
   "outputs": [],
   "source": [
    "df_dummies = df_dummies.reset_index(drop=True)\n",
    "scaled_numeric_df = scaled_numeric_df.reset_index(drop=True)"
   ]
  },
  {
   "cell_type": "code",
   "execution_count": 339,
   "metadata": {},
   "outputs": [
    {
     "data": {
      "text/html": [
       "<div>\n",
       "<style scoped>\n",
       "    .dataframe tbody tr th:only-of-type {\n",
       "        vertical-align: middle;\n",
       "    }\n",
       "\n",
       "    .dataframe tbody tr th {\n",
       "        vertical-align: top;\n",
       "    }\n",
       "\n",
       "    .dataframe thead th {\n",
       "        text-align: right;\n",
       "    }\n",
       "</style>\n",
       "<table border=\"1\" class=\"dataframe\">\n",
       "  <thead>\n",
       "    <tr style=\"text-align: right;\">\n",
       "      <th></th>\n",
       "      <th>EDUCATION_2</th>\n",
       "      <th>EDUCATION_3</th>\n",
       "      <th>EDUCATION_4</th>\n",
       "      <th>EDUCATION_5</th>\n",
       "      <th>EDUCATION_6</th>\n",
       "      <th>MARRIAGE_1</th>\n",
       "      <th>MARRIAGE_2</th>\n",
       "      <th>MARRIAGE_3</th>\n",
       "      <th>LIMIT_BAL</th>\n",
       "      <th>AGE</th>\n",
       "      <th>...</th>\n",
       "      <th>BILL_AMT3</th>\n",
       "      <th>BILL_AMT4</th>\n",
       "      <th>BILL_AMT5</th>\n",
       "      <th>BILL_AMT6</th>\n",
       "      <th>PAY_AMT1</th>\n",
       "      <th>PAY_AMT2</th>\n",
       "      <th>PAY_AMT3</th>\n",
       "      <th>PAY_AMT4</th>\n",
       "      <th>PAY_AMT5</th>\n",
       "      <th>PAY_AMT6</th>\n",
       "    </tr>\n",
       "  </thead>\n",
       "  <tbody>\n",
       "    <tr>\n",
       "      <th>0</th>\n",
       "      <td>1</td>\n",
       "      <td>0</td>\n",
       "      <td>0</td>\n",
       "      <td>0</td>\n",
       "      <td>0</td>\n",
       "      <td>1</td>\n",
       "      <td>0</td>\n",
       "      <td>0</td>\n",
       "      <td>-1.136982</td>\n",
       "      <td>-1.191862</td>\n",
       "      <td>...</td>\n",
       "      <td>-0.642255</td>\n",
       "      <td>-0.607059</td>\n",
       "      <td>-0.628743</td>\n",
       "      <td>-0.611313</td>\n",
       "      <td>-0.443120</td>\n",
       "      <td>-0.277935</td>\n",
       "      <td>-0.397458</td>\n",
       "      <td>-0.350656</td>\n",
       "      <td>-0.321780</td>\n",
       "      <td>-0.214458</td>\n",
       "    </tr>\n",
       "    <tr>\n",
       "      <th>1</th>\n",
       "      <td>1</td>\n",
       "      <td>0</td>\n",
       "      <td>0</td>\n",
       "      <td>0</td>\n",
       "      <td>0</td>\n",
       "      <td>0</td>\n",
       "      <td>1</td>\n",
       "      <td>0</td>\n",
       "      <td>-0.367055</td>\n",
       "      <td>-0.974281</td>\n",
       "      <td>...</td>\n",
       "      <td>-0.613246</td>\n",
       "      <td>-0.558123</td>\n",
       "      <td>-0.573030</td>\n",
       "      <td>-0.558656</td>\n",
       "      <td>-0.443120</td>\n",
       "      <td>-0.257971</td>\n",
       "      <td>-0.301242</td>\n",
       "      <td>-0.275443</td>\n",
       "      <td>-0.321780</td>\n",
       "      <td>-0.129790</td>\n",
       "    </tr>\n",
       "    <tr>\n",
       "      <th>2</th>\n",
       "      <td>1</td>\n",
       "      <td>0</td>\n",
       "      <td>0</td>\n",
       "      <td>0</td>\n",
       "      <td>0</td>\n",
       "      <td>0</td>\n",
       "      <td>1</td>\n",
       "      <td>0</td>\n",
       "      <td>-0.598033</td>\n",
       "      <td>-0.103959</td>\n",
       "      <td>...</td>\n",
       "      <td>-0.454925</td>\n",
       "      <td>-0.392723</td>\n",
       "      <td>-0.387702</td>\n",
       "      <td>-0.360235</td>\n",
       "      <td>-0.317953</td>\n",
       "      <td>-0.225874</td>\n",
       "      <td>-0.301242</td>\n",
       "      <td>-0.275443</td>\n",
       "      <td>-0.260600</td>\n",
       "      <td>-0.002787</td>\n",
       "    </tr>\n",
       "    <tr>\n",
       "      <th>3</th>\n",
       "      <td>1</td>\n",
       "      <td>0</td>\n",
       "      <td>0</td>\n",
       "      <td>0</td>\n",
       "      <td>0</td>\n",
       "      <td>1</td>\n",
       "      <td>0</td>\n",
       "      <td>0</td>\n",
       "      <td>-0.906004</td>\n",
       "      <td>0.222412</td>\n",
       "      <td>...</td>\n",
       "      <td>0.065176</td>\n",
       "      <td>-0.183593</td>\n",
       "      <td>-0.161769</td>\n",
       "      <td>-0.134202</td>\n",
       "      <td>-0.278210</td>\n",
       "      <td>-0.192557</td>\n",
       "      <td>-0.281999</td>\n",
       "      <td>-0.267921</td>\n",
       "      <td>-0.256379</td>\n",
       "      <td>-0.172124</td>\n",
       "    </tr>\n",
       "    <tr>\n",
       "      <th>4</th>\n",
       "      <td>1</td>\n",
       "      <td>0</td>\n",
       "      <td>0</td>\n",
       "      <td>0</td>\n",
       "      <td>0</td>\n",
       "      <td>1</td>\n",
       "      <td>0</td>\n",
       "      <td>0</td>\n",
       "      <td>-0.906004</td>\n",
       "      <td>2.398217</td>\n",
       "      <td>...</td>\n",
       "      <td>-0.130684</td>\n",
       "      <td>-0.293879</td>\n",
       "      <td>-0.320007</td>\n",
       "      <td>-0.302394</td>\n",
       "      <td>-0.278210</td>\n",
       "      <td>2.032533</td>\n",
       "      <td>0.564705</td>\n",
       "      <td>0.326262</td>\n",
       "      <td>-0.279627</td>\n",
       "      <td>-0.185713</td>\n",
       "    </tr>\n",
       "  </tbody>\n",
       "</table>\n",
       "<p>5 rows × 28 columns</p>\n",
       "</div>"
      ],
      "text/plain": [
       "   EDUCATION_2  EDUCATION_3  EDUCATION_4  EDUCATION_5  EDUCATION_6  \\\n",
       "0            1            0            0            0            0   \n",
       "1            1            0            0            0            0   \n",
       "2            1            0            0            0            0   \n",
       "3            1            0            0            0            0   \n",
       "4            1            0            0            0            0   \n",
       "\n",
       "   MARRIAGE_1  MARRIAGE_2  MARRIAGE_3  LIMIT_BAL       AGE  ...  BILL_AMT3  \\\n",
       "0           1           0           0  -1.136982 -1.191862  ...  -0.642255   \n",
       "1           0           1           0  -0.367055 -0.974281  ...  -0.613246   \n",
       "2           0           1           0  -0.598033 -0.103959  ...  -0.454925   \n",
       "3           1           0           0  -0.906004  0.222412  ...   0.065176   \n",
       "4           1           0           0  -0.906004  2.398217  ...  -0.130684   \n",
       "\n",
       "   BILL_AMT4  BILL_AMT5  BILL_AMT6  PAY_AMT1  PAY_AMT2  PAY_AMT3  PAY_AMT4  \\\n",
       "0  -0.607059  -0.628743  -0.611313 -0.443120 -0.277935 -0.397458 -0.350656   \n",
       "1  -0.558123  -0.573030  -0.558656 -0.443120 -0.257971 -0.301242 -0.275443   \n",
       "2  -0.392723  -0.387702  -0.360235 -0.317953 -0.225874 -0.301242 -0.275443   \n",
       "3  -0.183593  -0.161769  -0.134202 -0.278210 -0.192557 -0.281999 -0.267921   \n",
       "4  -0.293879  -0.320007  -0.302394 -0.278210  2.032533  0.564705  0.326262   \n",
       "\n",
       "   PAY_AMT5  PAY_AMT6  \n",
       "0 -0.321780 -0.214458  \n",
       "1 -0.321780 -0.129790  \n",
       "2 -0.260600 -0.002787  \n",
       "3 -0.256379 -0.172124  \n",
       "4 -0.279627 -0.185713  \n",
       "\n",
       "[5 rows x 28 columns]"
      ]
     },
     "execution_count": 339,
     "metadata": {},
     "output_type": "execute_result"
    }
   ],
   "source": [
    "df_combined= pd.concat([df_dummies, scaled_numeric_df], axis=1)\n",
    "df_combined.head()"
   ]
  },
  {
   "cell_type": "code",
   "execution_count": 340,
   "metadata": {},
   "outputs": [],
   "source": [
    "x = df_combined.copy()\n",
    "y = df['default payment next month']"
   ]
  },
  {
   "cell_type": "markdown",
   "metadata": {},
   "source": [
    "## Clustering"
   ]
  },
  {
   "cell_type": "code",
   "execution_count": 341,
   "metadata": {},
   "outputs": [
    {
     "data": {
      "text/plain": [
       "3"
      ]
     },
     "execution_count": 341,
     "metadata": {},
     "output_type": "execute_result"
    },
    {
     "data": {
      "image/png": "[encoded data removed]",
      "text/plain": [
       "<Figure size 432x288 with 1 Axes>"
      ]
     },
     "metadata": {
      "needs_background": "light"
     },
     "output_type": "display_data"
    }
   ],
   "source": [
    "from clustering import KMeansClustering\n",
    "\n",
    "km = KMeansClustering(logfile, App_Logger())\n",
    "num_clusters = km.elbow_plot(x)\n",
    "num_clusters\n"
   ]
  },
  {
   "cell_type": "code",
   "execution_count": 342,
   "metadata": {},
   "outputs": [
    {
     "data": {
      "text/html": [
       "<div>\n",
       "<style scoped>\n",
       "    .dataframe tbody tr th:only-of-type {\n",
       "        vertical-align: middle;\n",
       "    }\n",
       "\n",
       "    .dataframe tbody tr th {\n",
       "        vertical-align: top;\n",
       "    }\n",
       "\n",
       "    .dataframe thead th {\n",
       "        text-align: right;\n",
       "    }\n",
       "</style>\n",
       "<table border=\"1\" class=\"dataframe\">\n",
       "  <thead>\n",
       "    <tr style=\"text-align: right;\">\n",
       "      <th></th>\n",
       "      <th>EDUCATION_2</th>\n",
       "      <th>EDUCATION_3</th>\n",
       "      <th>EDUCATION_4</th>\n",
       "      <th>EDUCATION_5</th>\n",
       "      <th>EDUCATION_6</th>\n",
       "      <th>MARRIAGE_1</th>\n",
       "      <th>MARRIAGE_2</th>\n",
       "      <th>MARRIAGE_3</th>\n",
       "      <th>LIMIT_BAL</th>\n",
       "      <th>AGE</th>\n",
       "      <th>...</th>\n",
       "      <th>BILL_AMT4</th>\n",
       "      <th>BILL_AMT5</th>\n",
       "      <th>BILL_AMT6</th>\n",
       "      <th>PAY_AMT1</th>\n",
       "      <th>PAY_AMT2</th>\n",
       "      <th>PAY_AMT3</th>\n",
       "      <th>PAY_AMT4</th>\n",
       "      <th>PAY_AMT5</th>\n",
       "      <th>PAY_AMT6</th>\n",
       "      <th>Cluster</th>\n",
       "    </tr>\n",
       "  </thead>\n",
       "  <tbody>\n",
       "    <tr>\n",
       "      <th>0</th>\n",
       "      <td>1</td>\n",
       "      <td>0</td>\n",
       "      <td>0</td>\n",
       "      <td>0</td>\n",
       "      <td>0</td>\n",
       "      <td>1</td>\n",
       "      <td>0</td>\n",
       "      <td>0</td>\n",
       "      <td>-1.136982</td>\n",
       "      <td>-1.191862</td>\n",
       "      <td>...</td>\n",
       "      <td>-0.607059</td>\n",
       "      <td>-0.628743</td>\n",
       "      <td>-0.611313</td>\n",
       "      <td>-0.443120</td>\n",
       "      <td>-0.277935</td>\n",
       "      <td>-0.397458</td>\n",
       "      <td>-0.350656</td>\n",
       "      <td>-0.321780</td>\n",
       "      <td>-0.214458</td>\n",
       "      <td>2</td>\n",
       "    </tr>\n",
       "    <tr>\n",
       "      <th>1</th>\n",
       "      <td>1</td>\n",
       "      <td>0</td>\n",
       "      <td>0</td>\n",
       "      <td>0</td>\n",
       "      <td>0</td>\n",
       "      <td>0</td>\n",
       "      <td>1</td>\n",
       "      <td>0</td>\n",
       "      <td>-0.367055</td>\n",
       "      <td>-0.974281</td>\n",
       "      <td>...</td>\n",
       "      <td>-0.558123</td>\n",
       "      <td>-0.573030</td>\n",
       "      <td>-0.558656</td>\n",
       "      <td>-0.443120</td>\n",
       "      <td>-0.257971</td>\n",
       "      <td>-0.301242</td>\n",
       "      <td>-0.275443</td>\n",
       "      <td>-0.321780</td>\n",
       "      <td>-0.129790</td>\n",
       "      <td>0</td>\n",
       "    </tr>\n",
       "    <tr>\n",
       "      <th>2</th>\n",
       "      <td>1</td>\n",
       "      <td>0</td>\n",
       "      <td>0</td>\n",
       "      <td>0</td>\n",
       "      <td>0</td>\n",
       "      <td>0</td>\n",
       "      <td>1</td>\n",
       "      <td>0</td>\n",
       "      <td>-0.598033</td>\n",
       "      <td>-0.103959</td>\n",
       "      <td>...</td>\n",
       "      <td>-0.392723</td>\n",
       "      <td>-0.387702</td>\n",
       "      <td>-0.360235</td>\n",
       "      <td>-0.317953</td>\n",
       "      <td>-0.225874</td>\n",
       "      <td>-0.301242</td>\n",
       "      <td>-0.275443</td>\n",
       "      <td>-0.260600</td>\n",
       "      <td>-0.002787</td>\n",
       "      <td>0</td>\n",
       "    </tr>\n",
       "    <tr>\n",
       "      <th>3</th>\n",
       "      <td>1</td>\n",
       "      <td>0</td>\n",
       "      <td>0</td>\n",
       "      <td>0</td>\n",
       "      <td>0</td>\n",
       "      <td>1</td>\n",
       "      <td>0</td>\n",
       "      <td>0</td>\n",
       "      <td>-0.906004</td>\n",
       "      <td>0.222412</td>\n",
       "      <td>...</td>\n",
       "      <td>-0.183593</td>\n",
       "      <td>-0.161769</td>\n",
       "      <td>-0.134202</td>\n",
       "      <td>-0.278210</td>\n",
       "      <td>-0.192557</td>\n",
       "      <td>-0.281999</td>\n",
       "      <td>-0.267921</td>\n",
       "      <td>-0.256379</td>\n",
       "      <td>-0.172124</td>\n",
       "      <td>0</td>\n",
       "    </tr>\n",
       "    <tr>\n",
       "      <th>4</th>\n",
       "      <td>1</td>\n",
       "      <td>0</td>\n",
       "      <td>0</td>\n",
       "      <td>0</td>\n",
       "      <td>0</td>\n",
       "      <td>1</td>\n",
       "      <td>0</td>\n",
       "      <td>0</td>\n",
       "      <td>-0.906004</td>\n",
       "      <td>2.398217</td>\n",
       "      <td>...</td>\n",
       "      <td>-0.293879</td>\n",
       "      <td>-0.320007</td>\n",
       "      <td>-0.302394</td>\n",
       "      <td>-0.278210</td>\n",
       "      <td>2.032533</td>\n",
       "      <td>0.564705</td>\n",
       "      <td>0.326262</td>\n",
       "      <td>-0.279627</td>\n",
       "      <td>-0.185713</td>\n",
       "      <td>0</td>\n",
       "    </tr>\n",
       "  </tbody>\n",
       "</table>\n",
       "<p>5 rows × 29 columns</p>\n",
       "</div>"
      ],
      "text/plain": [
       "   EDUCATION_2  EDUCATION_3  EDUCATION_4  EDUCATION_5  EDUCATION_6  \\\n",
       "0            1            0            0            0            0   \n",
       "1            1            0            0            0            0   \n",
       "2            1            0            0            0            0   \n",
       "3            1            0            0            0            0   \n",
       "4            1            0            0            0            0   \n",
       "\n",
       "   MARRIAGE_1  MARRIAGE_2  MARRIAGE_3  LIMIT_BAL       AGE  ...  BILL_AMT4  \\\n",
       "0           1           0           0  -1.136982 -1.191862  ...  -0.607059   \n",
       "1           0           1           0  -0.367055 -0.974281  ...  -0.558123   \n",
       "2           0           1           0  -0.598033 -0.103959  ...  -0.392723   \n",
       "3           1           0           0  -0.906004  0.222412  ...  -0.183593   \n",
       "4           1           0           0  -0.906004  2.398217  ...  -0.293879   \n",
       "\n",
       "   BILL_AMT5  BILL_AMT6  PAY_AMT1  PAY_AMT2  PAY_AMT3  PAY_AMT4  PAY_AMT5  \\\n",
       "0  -0.628743  -0.611313 -0.443120 -0.277935 -0.397458 -0.350656 -0.321780   \n",
       "1  -0.573030  -0.558656 -0.443120 -0.257971 -0.301242 -0.275443 -0.321780   \n",
       "2  -0.387702  -0.360235 -0.317953 -0.225874 -0.301242 -0.275443 -0.260600   \n",
       "3  -0.161769  -0.134202 -0.278210 -0.192557 -0.281999 -0.267921 -0.256379   \n",
       "4  -0.320007  -0.302394 -0.278210  2.032533  0.564705  0.326262 -0.279627   \n",
       "\n",
       "   PAY_AMT6  Cluster  \n",
       "0 -0.214458        2  \n",
       "1 -0.129790        0  \n",
       "2 -0.002787        0  \n",
       "3 -0.172124        0  \n",
       "4 -0.185713        0  \n",
       "\n",
       "[5 rows x 29 columns]"
      ]
     },
     "execution_count": 342,
     "metadata": {},
     "output_type": "execute_result"
    }
   ],
   "source": [
    "data_with_clusters = km.create_clusters(x, num_clusters)\n",
    "data_with_clusters.head()"
   ]
  },
  {
   "cell_type": "code",
   "execution_count": 343,
   "metadata": {},
   "outputs": [
    {
     "data": {
      "text/plain": [
       "<matplotlib.axes._subplots.AxesSubplot at 0x207e760c2b0>"
      ]
     },
     "execution_count": 343,
     "metadata": {},
     "output_type": "execute_result"
    },
    {
     "data": {
      "image/png": "[encoded data removed]",
      "text/plain": [
       "<Figure size 432x288 with 1 Axes>"
      ]
     },
     "metadata": {
      "needs_background": "light"
     },
     "output_type": "display_data"
    }
   ],
   "source": [
    "import seaborn as sns\n",
    "sns.countplot(x = 'Cluster', data=data_with_clusters)"
   ]
  },
  {
   "cell_type": "code",
   "execution_count": 344,
   "metadata": {},
   "outputs": [],
   "source": [
    "from sklearn.model_selection import train_test_split\n",
    "from sklearn.model_selection import GridSearchCV\n",
    "import matplotlib.pyplot as plt\n",
    "\n",
    "class ModelFinder:\n",
    "\n",
    "    def __init__(self, x, y) -> None:\n",
    "        self.x, self.y = x, y\n",
    "\n",
    "    def find_best_model(self, estimators, param_grids, cv = 5):\n",
    "        self.estimators = estimators\n",
    "        self.param_grids = param_grids\n",
    "        self.cv = cv\n",
    "        self.x_train, self.x_test, self.y_train, self.y_test = train_test_split(self.x, self.y, test_size = 0.2)\n",
    "        results = []\n",
    "        for estimator, params in zip(self.estimators, self.param_grids):\n",
    "            gcv = GridSearchCV(estimator, param_grid=params, cv = self.cv, scoring='f1', verbose=True)\n",
    "            gcv.fit(self.x_train, self.y_train)\n",
    "            self.score = gcv.score(self.x_test, self.y_test)\n",
    "            results.append((gcv.best_estimator_, self.score))\n",
    "        return results\n",
    "        \n",
    "\n",
    "    def compare_models(self, results):\n",
    "        self.model_names = [str(results[i][0].__class__).split(\".\")[-1].strip(\"'>\") for i in range(len(results))]\n",
    "        self.scores = [results[i][1] for i in range(len(results))]\n",
    "        plt.bar(self.model_names, self.scores, width=0.4)\n",
    "        plt.title(\"Perfomence of various models\")\n",
    "        plt.xlabel(\"Model\")\n",
    "        plt.ylabel(\"f1 Scores\")\n"
   ]
  },
  {
   "cell_type": "code",
   "execution_count": 345,
   "metadata": {},
   "outputs": [],
   "source": [
    "x = data_with_clusters\n",
    "y = df['default payment next month']"
   ]
  },
  {
   "cell_type": "code",
   "execution_count": 346,
   "metadata": {},
   "outputs": [],
   "source": [
    "from sklearn.ensemble import RandomForestClassifier\n",
    "from sklearn.linear_model import LogisticRegression\n",
    "from xgboost import XGBClassifier\n",
    "\n",
    "xgb = XGBClassifier()\n",
    "lr = LogisticRegression()\n",
    "rf = RandomForestClassifier()\n",
    "\n",
    "xgb_params = { \"n_estimators\": [50],\"max_depth\": range(3, 6, 1)}\n",
    "lr_params = {\"penalty\": [\"l1\", \"l2\"]}\n",
    "rf_params = {'max_features': [0.5, 0.6]}\n",
    "\n",
    "params = [xgb_params, rf_params]\n",
    "models = [xgb, rf]"
   ]
  },
  {
   "cell_type": "code",
   "execution_count": 347,
   "metadata": {},
   "outputs": [
    {
     "name": "stdout",
     "output_type": "stream",
     "text": [
      "Fitting 3 folds for each of 3 candidates, totalling 9 fits\n"
     ]
    },
    {
     "name": "stderr",
     "output_type": "stream",
     "text": [
      "[Parallel(n_jobs=1)]: Using backend SequentialBackend with 1 concurrent workers.\n",
      "[Parallel(n_jobs=1)]: Done   9 out of   9 | elapsed:   14.8s finished\n"
     ]
    },
    {
     "name": "stdout",
     "output_type": "stream",
     "text": [
      "Fitting 3 folds for each of 2 candidates, totalling 6 fits\n"
     ]
    },
    {
     "name": "stderr",
     "output_type": "stream",
     "text": [
      "[Parallel(n_jobs=1)]: Using backend SequentialBackend with 1 concurrent workers.\n",
      "[Parallel(n_jobs=1)]: Done   6 out of   6 | elapsed:   35.0s finished\n"
     ]
    },
    {
     "data": {
      "image/png": "[encoded data removed]",
      "text/plain": [
       "<Figure size 432x288 with 1 Axes>"
      ]
     },
     "metadata": {
      "needs_background": "light"
     },
     "output_type": "display_data"
    }
   ],
   "source": [
    "mf = ModelFinder(x,y)\n",
    "results = mf.find_best_model(models, params, cv=3)\n",
    "#results\n",
    "mf.compare_models(results)"
   ]
  },
  {
   "cell_type": "code",
   "execution_count": null,
   "metadata": {},
   "outputs": [],
   "source": []
  }
 ],
 "metadata": {
  "interpreter": {
   "hash": "2ab5b74431d2944bad4e5da841303bb52db01efcedb74db25ec84f6bc941512e"
  },
  "kernelspec": {
   "display_name": "Python 3 (ipykernel)",
   "language": "python",
   "name": "python3"
  },
  "language_info": {
   "codemirror_mode": {
    "name": "ipython",
    "version": 3
   },
   "file_extension": ".py",
   "mimetype": "text/x-python",
   "name": "python",
   "nbconvert_exporter": "python",
   "pygments_lexer": "ipython3",
   "version": "3.6.13"
  }
 },
 "nbformat": 4,
 "nbformat_minor": 4
}
